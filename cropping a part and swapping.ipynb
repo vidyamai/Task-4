{
 "cells": [
  {
   "cell_type": "code",
   "execution_count": 1,
   "id": "0a5b0a21",
   "metadata": {},
   "outputs": [],
   "source": [
    "import cv2"
   ]
  },
  {
   "cell_type": "code",
   "execution_count": 2,
   "id": "896fb03c",
   "metadata": {},
   "outputs": [],
   "source": [
    "import numpy"
   ]
  },
  {
   "cell_type": "code",
   "execution_count": 3,
   "id": "5b58b539",
   "metadata": {},
   "outputs": [],
   "source": [
    "#in this task we take two separate image, crops a part of one image and swaps with the part of another image."
   ]
  },
  {
   "cell_type": "code",
   "execution_count": 4,
   "id": "b9bda772",
   "metadata": {},
   "outputs": [],
   "source": [
    "photo1=cv2.imread(\"ironman.PNG\")\n"
   ]
  },
  {
   "cell_type": "code",
   "execution_count": 5,
   "id": "d18fa8c8",
   "metadata": {},
   "outputs": [
    {
     "data": {
      "text/plain": [
       "<function destroyAllWindows>"
      ]
     },
     "execution_count": 5,
     "metadata": {},
     "output_type": "execute_result"
    }
   ],
   "source": [
    "cv2.imshow('ironman',photo1)\n",
    "cv2.waitKey()\n",
    "cv2.destroyAllWindows"
   ]
  },
  {
   "cell_type": "code",
   "execution_count": 6,
   "id": "b2d5547e",
   "metadata": {},
   "outputs": [],
   "source": [
    "photo2=cv2.imread(\"robert.PNG\")"
   ]
  },
  {
   "cell_type": "code",
   "execution_count": 7,
   "id": "9e7ad45b",
   "metadata": {},
   "outputs": [
    {
     "data": {
      "text/plain": [
       "<function destroyAllWindows>"
      ]
     },
     "execution_count": 7,
     "metadata": {},
     "output_type": "execute_result"
    }
   ],
   "source": [
    "cv2.imshow('robert',photo2)\n",
    "cv2.waitKey()\n",
    "cv2.destroyAllWindows"
   ]
  },
  {
   "cell_type": "code",
   "execution_count": 8,
   "id": "c14d8108",
   "metadata": {},
   "outputs": [
    {
     "data": {
      "text/plain": [
       "(804, 384, 3)"
      ]
     },
     "execution_count": 8,
     "metadata": {},
     "output_type": "execute_result"
    }
   ],
   "source": [
    "photo1.shape"
   ]
  },
  {
   "cell_type": "code",
   "execution_count": 9,
   "id": "a7703e23",
   "metadata": {},
   "outputs": [
    {
     "data": {
      "text/plain": [
       "(662, 436, 3)"
      ]
     },
     "execution_count": 9,
     "metadata": {},
     "output_type": "execute_result"
    }
   ],
   "source": [
    "photo2.shape"
   ]
  },
  {
   "cell_type": "code",
   "execution_count": 10,
   "id": "e6c63ab7",
   "metadata": {},
   "outputs": [],
   "source": [
    "pic2=photo2[0:110,155:230]\n",
    "#cropping a part of one image"
   ]
  },
  {
   "cell_type": "code",
   "execution_count": 11,
   "id": "c77fcd2d",
   "metadata": {},
   "outputs": [
    {
     "data": {
      "text/plain": [
       "<function destroyAllWindows>"
      ]
     },
     "execution_count": 11,
     "metadata": {},
     "output_type": "execute_result"
    }
   ],
   "source": [
    "cv2.imshow('robert',pic2)\n",
    "cv2.waitKey()\n",
    "cv2.destroyAllWindows"
   ]
  },
  {
   "cell_type": "code",
   "execution_count": 12,
   "id": "f20f3dec",
   "metadata": {},
   "outputs": [],
   "source": [
    "pic1=photo1[0:110,155:230]\n",
    "#cropping the same part same size of another image"
   ]
  },
  {
   "cell_type": "code",
   "execution_count": 13,
   "id": "a5b9f208",
   "metadata": {},
   "outputs": [
    {
     "data": {
      "text/plain": [
       "<function destroyAllWindows>"
      ]
     },
     "execution_count": 13,
     "metadata": {},
     "output_type": "execute_result"
    }
   ],
   "source": [
    "cv2.imshow('ironman',pic1)\n",
    "cv2.waitKey()\n",
    "cv2.destroyAllWindows"
   ]
  },
  {
   "cell_type": "code",
   "execution_count": 14,
   "id": "ce0e8a54",
   "metadata": {},
   "outputs": [],
   "source": [
    "photo1[0:110,155:230]=photo2[0:110,155:230]\n",
    "#replacing the photo1 part with photo2 part"
   ]
  },
  {
   "cell_type": "code",
   "execution_count": 15,
   "id": "83a6b285",
   "metadata": {},
   "outputs": [
    {
     "data": {
      "text/plain": [
       "<function destroyAllWindows>"
      ]
     },
     "execution_count": 15,
     "metadata": {},
     "output_type": "execute_result"
    }
   ],
   "source": [
    "cv2.imshow('ironman',photo1)\n",
    "cv2.waitKey()\n",
    "cv2.destroyAllWindows"
   ]
  },
  {
   "cell_type": "code",
   "execution_count": null,
   "id": "2208ddf6",
   "metadata": {},
   "outputs": [],
   "source": []
  },
  {
   "cell_type": "code",
   "execution_count": null,
   "id": "c9344ab3",
   "metadata": {},
   "outputs": [],
   "source": []
  }
 ],
 "metadata": {
  "kernelspec": {
   "display_name": "Python 3",
   "language": "python",
   "name": "python3"
  },
  "language_info": {
   "codemirror_mode": {
    "name": "ipython",
    "version": 3
   },
   "file_extension": ".py",
   "mimetype": "text/x-python",
   "name": "python",
   "nbconvert_exporter": "python",
   "pygments_lexer": "ipython3",
   "version": "3.8.8"
  }
 },
 "nbformat": 4,
 "nbformat_minor": 5
}
