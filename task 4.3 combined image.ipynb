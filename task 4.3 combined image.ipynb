{
 "cells": [
  {
   "cell_type": "code",
   "execution_count": 1,
   "id": "a5f2b5e1",
   "metadata": {},
   "outputs": [],
   "source": [
    "import cv2"
   ]
  },
  {
   "cell_type": "code",
   "execution_count": 2,
   "id": "f1b99dc0",
   "metadata": {},
   "outputs": [],
   "source": [
    "import numpy"
   ]
  },
  {
   "cell_type": "code",
   "execution_count": 3,
   "id": "b1e30f34",
   "metadata": {},
   "outputs": [],
   "source": [
    "photo1=cv2.imread(\"ironman.PNG\")\n",
    "#the image is read/stored"
   ]
  },
  {
   "cell_type": "code",
   "execution_count": 4,
   "id": "2dd9ae4a",
   "metadata": {},
   "outputs": [
    {
     "data": {
      "text/plain": [
       "<function destroyAllWindows>"
      ]
     },
     "execution_count": 4,
     "metadata": {},
     "output_type": "execute_result"
    }
   ],
   "source": [
    "cv2.imshow('ironman',photo1)\n",
    "cv2.waitKey()\n",
    "cv2.destroyAllWindows\n",
    "# imshow() displays the image\n",
    "# waitkey() is given so that the picture displays untill we press a key on keypad\n",
    "# destroy is given to dissapear the image"
   ]
  },
  {
   "cell_type": "code",
   "execution_count": null,
   "id": "dee87a7c",
   "metadata": {},
   "outputs": [],
   "source": [
    "photo2=cv2.imread(\"robert.PNG\")\n",
    "#the image is read/stored"
   ]
  },
  {
   "cell_type": "code",
   "execution_count": null,
   "id": "4426f216",
   "metadata": {},
   "outputs": [],
   "source": [
    "cv2.imshow('robert',photo2)\n",
    "cv2.waitKey()\n",
    "cv2.destroyAllWindows\n",
    "# imshow() displays the image\n",
    "# waitkey() is given so that the picture displays untill we press a key on keypad\n",
    "# destroy is given to dissapear the image"
   ]
  },
  {
   "cell_type": "code",
   "execution_count": null,
   "id": "e503d317",
   "metadata": {},
   "outputs": [],
   "source": [
    "photo1.shape\n",
    "#this gives the (rows,columns,values)"
   ]
  },
  {
   "cell_type": "code",
   "execution_count": null,
   "id": "85989ea3",
   "metadata": {},
   "outputs": [],
   "source": [
    "photo2.shape\n",
    "#this gives the (rows,columns,values)"
   ]
  },
  {
   "cell_type": "code",
   "execution_count": null,
   "id": "b3867613",
   "metadata": {},
   "outputs": [],
   "source": [
    "pic1=photo1[0:662,0:384]\n",
    "#to merge image we are using concat function so to concat either the images rows or colums should be equal so we are\n",
    "#cropping the rows"
   ]
  },
  {
   "cell_type": "code",
   "execution_count": null,
   "id": "51256ffe",
   "metadata": {},
   "outputs": [],
   "source": [
    "cv2.imshow('ironman',pic1)\n",
    "cv2.waitKey()\n",
    "cv2.destroyAllWindows\n",
    "#cropped image"
   ]
  },
  {
   "cell_type": "code",
   "execution_count": null,
   "id": "2d8196f6",
   "metadata": {},
   "outputs": [],
   "source": [
    "merged_image=cv2.hconcat((pic1,photo2))"
   ]
  },
  {
   "cell_type": "code",
   "execution_count": null,
   "id": "6ff5d165",
   "metadata": {},
   "outputs": [],
   "source": [
    "cv2.imshow('merged_image',merged_image)\n",
    "cv2.waitKey()\n",
    "cv2.destroyAllWindows\n",
    "#final image"
   ]
  },
  {
   "cell_type": "code",
   "execution_count": null,
   "id": "2ef8f6a5",
   "metadata": {},
   "outputs": [],
   "source": []
  },
  {
   "cell_type": "code",
   "execution_count": null,
   "id": "abad2b34",
   "metadata": {},
   "outputs": [],
   "source": []
  }
 ],
 "metadata": {
  "kernelspec": {
   "display_name": "Python 3",
   "language": "python",
   "name": "python3"
  },
  "language_info": {
   "codemirror_mode": {
    "name": "ipython",
    "version": 3
   },
   "file_extension": ".py",
   "mimetype": "text/x-python",
   "name": "python",
   "nbconvert_exporter": "python",
   "pygments_lexer": "ipython3",
   "version": "3.8.8"
  }
 },
 "nbformat": 4,
 "nbformat_minor": 5
}
