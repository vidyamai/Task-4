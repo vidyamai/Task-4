{
 "cells": [
  {
   "cell_type": "code",
   "execution_count": 1,
   "id": "04d96dfe",
   "metadata": {},
   "outputs": [],
   "source": [
    "import cv2"
   ]
  },
  {
   "cell_type": "code",
   "execution_count": 2,
   "id": "adfc0013",
   "metadata": {},
   "outputs": [],
   "source": [
    "import numpy"
   ]
  },
  {
   "cell_type": "code",
   "execution_count": 3,
   "id": "d0ef8b48",
   "metadata": {},
   "outputs": [],
   "source": [
    "photo=numpy.zeros((500,500))\n",
    "\n",
    "#it gives black image with 500*500 as dimensions"
   ]
  },
  {
   "cell_type": "code",
   "execution_count": 4,
   "id": "d120f9dc",
   "metadata": {},
   "outputs": [],
   "source": [
    "cv2.imshow('task1',photo)\n",
    "cv2.waitKey()\n",
    "cv2.destroyAllWindows()\n",
    "\n",
    "# imshow() displays the image\n",
    "# waitkey() is given so that the picture displays untill we press a key on keypad\n",
    "# destroy is given to dissapear the image"
   ]
  },
  {
   "cell_type": "code",
   "execution_count": 5,
   "id": "c2a337e7",
   "metadata": {},
   "outputs": [
    {
     "data": {
      "text/plain": [
       "True"
      ]
     },
     "execution_count": 5,
     "metadata": {},
     "output_type": "execute_result"
    }
   ],
   "source": [
    "cv2.imwrite('task1.jpg',photo)\n",
    "\n",
    "# imwrite() is given to save the image"
   ]
  },
  {
   "cell_type": "code",
   "execution_count": 6,
   "id": "3c17f8cc",
   "metadata": {},
   "outputs": [],
   "source": [
    "photo=cv2.imread('task1.jpg')\n",
    "\n",
    "# the image is read/stored"
   ]
  },
  {
   "cell_type": "code",
   "execution_count": 7,
   "id": "cb701297",
   "metadata": {},
   "outputs": [
    {
     "data": {
      "text/plain": [
       "(500, 500, 3)"
      ]
     },
     "execution_count": 7,
     "metadata": {},
     "output_type": "execute_result"
    }
   ],
   "source": [
    "photo.shape"
   ]
  },
  {
   "cell_type": "code",
   "execution_count": 8,
   "id": "a662976b",
   "metadata": {},
   "outputs": [],
   "source": [
    "photo=cv2.rectangle(photo,(120,160),(240,400),[120,56,135],10)\n",
    "\n",
    "# inserting the shape of rectangle into the image with function rectangle(imagename,(x1,y1),(x2,y2),[B,G,R],thickness)\n"
   ]
  },
  {
   "cell_type": "code",
   "execution_count": 9,
   "id": "08a5fe3b",
   "metadata": {},
   "outputs": [],
   "source": [
    "cv2.imshow('photo',photo)\n",
    "cv2.waitKey()\n",
    "cv2.destroyAllWindows()\n",
    "\n",
    "#image displays\n"
   ]
  },
  {
   "cell_type": "code",
   "execution_count": 10,
   "id": "7d41a959",
   "metadata": {},
   "outputs": [],
   "source": [
    "lphoto = cv2.line(photo,(120,160),(180,80),[120,56,135],10)\n",
    "\n",
    "# inserting the shape of line into the image with function line(imagename,(x1-cordinate,y1-cordinate),[B,G,R],thickness)\n"
   ]
  },
  {
   "cell_type": "code",
   "execution_count": 11,
   "id": "da98bc02",
   "metadata": {},
   "outputs": [],
   "source": [
    "cv2.imshow('photo',lphoto)\n",
    "cv2.waitKey()\n",
    "cv2.destroyAllWindows()\n"
   ]
  },
  {
   "cell_type": "code",
   "execution_count": 12,
   "id": "2fa2d5ab",
   "metadata": {},
   "outputs": [],
   "source": [
    "lphoto1 = cv2.line(photo,(240,160),(180,80),[120,56,135],10)\n",
    "\n",
    "# inserting the shape of line into the image with function line(imagename,(x1-cordinate,y1-cordinate),[B,G,R],thickness)"
   ]
  },
  {
   "cell_type": "code",
   "execution_count": 13,
   "id": "c6434ddb",
   "metadata": {},
   "outputs": [],
   "source": [
    "cv2.imshow('photo',lphoto1)\n",
    "cv2.waitKey()\n",
    "cv2.destroyAllWindows()\n"
   ]
  },
  {
   "cell_type": "code",
   "execution_count": 14,
   "id": "1048e551",
   "metadata": {},
   "outputs": [],
   "source": [
    "rect=cv2.rectangle(lphoto1,(160,240),(200,400),[0,75,125],10)\n",
    "\n",
    "# inserting the shape of rectangle into the image with function rectangle(imagename,(x1,y1),(x2,y2),[B,G,R],thickness)"
   ]
  },
  {
   "cell_type": "code",
   "execution_count": 15,
   "id": "e28ebcb4",
   "metadata": {},
   "outputs": [],
   "source": [
    "cv2.imshow('photo',rect)\n",
    "cv2.waitKey()\n",
    "cv2.destroyAllWindows()"
   ]
  },
  {
   "cell_type": "code",
   "execution_count": 16,
   "id": "7584fc41",
   "metadata": {},
   "outputs": [],
   "source": [
    "circle=cv2.circle(rect,(380,100),15,[253,250,211],100)\n",
    "\n",
    "# inserting the shape of circle into the image with function \n",
    "#circle(imagename,(centre-x1-cordinate,y1-cordinate),radius,[B,G,R],thickness)"
   ]
  },
  {
   "cell_type": "code",
   "execution_count": 17,
   "id": "85549d7b",
   "metadata": {},
   "outputs": [],
   "source": [
    "cv2.imshow('photo',circle)\n",
    "cv2.waitKey()\n",
    "cv2.destroyAllWindows()"
   ]
  },
  {
   "cell_type": "code",
   "execution_count": null,
   "id": "4ea3ee4f",
   "metadata": {},
   "outputs": [],
   "source": []
  },
  {
   "cell_type": "code",
   "execution_count": null,
   "id": "e7fc11cc",
   "metadata": {},
   "outputs": [],
   "source": []
  }
 ],
 "metadata": {
  "kernelspec": {
   "display_name": "Python 3",
   "language": "python",
   "name": "python3"
  },
  "language_info": {
   "codemirror_mode": {
    "name": "ipython",
    "version": 3
   },
   "file_extension": ".py",
   "mimetype": "text/x-python",
   "name": "python",
   "nbconvert_exporter": "python",
   "pygments_lexer": "ipython3",
   "version": "3.8.8"
  }
 },
 "nbformat": 4,
 "nbformat_minor": 5
}
